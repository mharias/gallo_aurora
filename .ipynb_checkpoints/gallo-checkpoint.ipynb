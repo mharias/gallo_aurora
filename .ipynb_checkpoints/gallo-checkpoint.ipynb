{
 "cells": [
  {
   "cell_type": "code",
   "execution_count": 74,
   "metadata": {},
   "outputs": [],
   "source": [
    "import math\n",
    "from math import *\n",
    "#from geopy.geocoders import GoogleV3\n",
    "import datetime\n",
    "import time\n",
    "import pytz\n",
    "import ast\n",
    "import codecs\n",
    "import twitter\n",
    "import pandas as pd\n",
    "from pytz import datetime, timezone\n",
    "import urllib\n",
    "import numpy as np\n",
    "from mpl_toolkits.basemap import Basemap\n",
    "import matplotlib.pyplot as plt\n",
    "from datetime import datetime\n",
    "from pytz import datetime, timezone\n",
    "%matplotlib inline"
   ]
  },
  {
   "cell_type": "code",
   "execution_count": 3,
   "metadata": {},
   "outputs": [],
   "source": [
    "import sys\n",
    "\n",
    "sys.path.append(\"/Users/waly/Documents/proyectos/mylibs\") # directorio de acceso a librerías auxiliares\n",
    "\n",
    "#from pass_gallo import apikey\n",
    "from pass_elgallo import apikey,apisecretkey,AccessToken,AccessTokenSecret\n",
    "from pass_elgallo import google_key"
   ]
  },
  {
   "cell_type": "code",
   "execution_count": null,
   "metadata": {},
   "outputs": [],
   "source": [
    "def send_tweet(consumer_key_,consumer_secret_,access_token_key_,access_token_secret_):\n",
    "    api=twitter.Api(consumer_key_,\n",
    "               consumer_secret_,\n",
    "               access_token_key_,\n",
    "               access_token_secret_,\n",
    "               sleep_on_rate_limit=True)\n",
    "    \n",
    "    estado = api.PostUpdate('Checking tweet posting')\n",
    "    return estado"
   ]
  },
  {
   "cell_type": "code",
   "execution_count": null,
   "metadata": {},
   "outputs": [],
   "source": [
    "send_tweet(apikey,apisecretkey,AccessToken,AccessTokenSecret)"
   ]
  },
  {
   "cell_type": "code",
   "execution_count": 34,
   "metadata": {},
   "outputs": [],
   "source": [
    "def send_tweet(consumer_key_,consumer_secret_,access_token_key_,access_token_secret_):\n",
    "# función que devuelve un diccionario con los seguidores de la cuenta, la cuenta está ya definida con las \n",
    "#cuatro claves\n",
    "    api=twitter.Api(consumer_key_,\n",
    "               consumer_secret_,\n",
    "               access_token_key_,\n",
    "               access_token_secret_,\n",
    "               sleep_on_rate_limit=True)\n",
    "    \n",
    "    status = api.PostUpdate('Testing tweet from python API',media='imagen_mapa.jpeg')\n",
    "    return status\n",
    "\n",
    "\n",
    "def envia_twitter(texto,_imagen=None):\n",
    "    twitter = Twython(claves.APP_KEY_Twitter_gallo, claves.APP_SECRET_Twitter_gallo,claves.OAUTH_TOKEN_Twitter_gallo, claves.OAUTH_TOKEN_SECRET_Twitter_gallo)\n",
    "    texto=texto+'\\n'+'#gallodelaaurora'+'\\n'+'#RaspberryPi'\n",
    "    if _imagen != None:\n",
    "        imagen_id=twitter.upload_media(media=_imagen)\t\n",
    "        twitter.update_status(status=texto,media_ids=imagen_id['media_id'])\n",
    "    else:\n",
    "        twitter.update_status(status=texto)\n",
    "\n",
    "\n",
    "def grados_a_radianes(grados_):\n",
    "\treturn grados_/360*2*math.pi\n",
    "\n",
    "\n",
    "def radianes_a_grados(radianes_):\n",
    "\treturn radianes_*360/2/math.pi\n",
    "\n",
    "\n",
    "def ecuacion_tiempo(dia_):\n",
    "\tvalor=229.18*(-0.0334*math.sin(2*math.pi/365.24*dia_)+0.04184*math.sin(4*math.pi/365.24*dia_+3.5884))\n",
    "\treturn valor\n",
    "\n",
    "\n",
    "def declinacion(n_):\n",
    "\tvalor=-23.45*math.cos(grados_a_radianes(360/365*(n_+10)))\n",
    "\treturn valor\n",
    "\n",
    "\n",
    "def angulo_solar(latitud_,declinacion_):\n",
    "\ta=math.sin(grados_a_radianes(-0.833))-math.sin(grados_a_radianes(latitud_))*math.sin(grados_a_radianes(declinacion_))\n",
    "\tb=math.cos(grados_a_radianes(declinacion_))*math.cos(grados_a_radianes(latitud_))\n",
    "\tcosenow=a/b\n",
    "\treturn math.acos(cosenow)\n",
    "\n",
    "\n",
    "def amanece_dia (latitud_,longitud_,dia_):\n",
    "\ttimezone_utc=timezone('utc')\n",
    "\torden_dia=int(dia_.strftime('%j'))\n",
    "\tdeclinacion_dia=declinacion(orden_dia)\n",
    "\tangulo=angulo_solar(latitud_,declinacion_dia)\n",
    "\tNHoras=radianes_a_grados(angulo)/7.5\n",
    "\tajuste=ecuacion_tiempo(orden_dia)\n",
    "\tmediodia_solar=datetime.datetime(dia_.year,dia_.month,dia_.day,12,0,0)\n",
    "\tarco=datetime.timedelta(hours=NHoras/2)\n",
    "\thora_amanecer_solar=mediodia_solar-arco\n",
    "\thora_amanecer_utc=hora_amanecer_solar-datetime.timedelta(hours=longitud_/15)\n",
    "\thora_amanecer_utc_ajustada=hora_amanecer_utc-datetime.timedelta(minutes=ajuste)\n",
    "\thora_amanecer_utc_ajustada_localizada=timezone_utc.localize(hora_amanecer_utc_ajustada)\n",
    "\thora_amanecer_utc_ajustada_localizada=hora_amanecer_utc_ajustada_localizada.replace(year=dia_.year,month=dia_.month,day=dia_.day)\n",
    "\treturn hora_amanecer_utc_ajustada_localizada\n",
    "\n",
    "\n",
    "\n",
    "def anochece_dia (latitud_,longitud_,dia_):\n",
    "#hay que pasarle ol objeto geocoder para evitar abrir muchos y posibles problemas de saturacion\n",
    "\ttimezone_utc=timezone('utc')\n",
    "\torden_dia=int(dia_.strftime('%j'))\n",
    "\tdeclinacion_dia=declinacion(orden_dia)\n",
    "\tangulo=angulo_solar(latitud_,declinacion_dia)\n",
    "\tNHoras=radianes_a_grados(angulo)/7.5\n",
    "\tajuste=ecuacion_tiempo(orden_dia)\n",
    "\tmediodia_solar=datetime.datetime(dia_.year,dia_.month,dia_.day,12,0,0)\n",
    "\tarco=datetime.timedelta(hours=NHoras/2)\n",
    "\thora_anochecer_solar=mediodia_solar+arco\n",
    "\thora_anochecer_utc=hora_anochecer_solar-datetime.timedelta(hours=longitud_/15)\n",
    "\thora_anochecer_utc_ajustada=hora_anochecer_utc-datetime.timedelta(minutes=ajuste)\n",
    "\thora_anochecer_utc_ajustada_localizada=timezone_utc.localize(hora_anochecer_utc_ajustada)\n",
    "\thora_anochecer_utc_ajustada_localizada=hora_anochecer_utc_ajustada_localizada.replace(year=dia_.year,month=dia_.month,day=dia_.day)\n",
    "\treturn hora_anochecer_utc_ajustada_localizada\n",
    "\n",
    "\n",
    "\n",
    "def genera_diccionario(fichero_):\n",
    "\n",
    "\tprint ('Generando diccionario de ciudades...')\n",
    "\ttipo=\"([a-zA-ZñÑáéíóúÁÉÍÓÚâ ]+),([-a-zA-ZñÑáéíóúÁÉÍÓÚüâ.\\' ]+),([a-zA-ZñÑáéíóúÁÉÍÓÚ ]+),(-?\\d+\\.\\d+),(-?\\d+\\.\\d+),((Indian|Australia|Atlantic|Africa|Europe|Asia|Pacific|America)\\/[-_a-zA-Z ]+)\"\n",
    "\ttimezone_utc=timezone('utc')\n",
    "\tregex = re.compile(tipo)\n",
    "\tcities=dict()\n",
    "\tnow_utc=datetime.datetime.utcnow()\n",
    "\tahora=timezone_utc.localize(now_utc)\n",
    "\tun_dia=datetime.timedelta(days=1)\n",
    "\twith codecs.open(fichero_, 'r','utf-8-') as f:\n",
    "\t\tfor line in f:\n",
    "\t\t\tmatch = regex.search(str(line))\n",
    "\t\t\tciudad=match.group(2)\n",
    "\t\t\tlongitud=float(match.group(4))\n",
    "\t\t\tlatitud=float(match.group(5))\n",
    "\t\t\tcity_timezone=match.group(6)\n",
    "\t\t\t#amanece,anochece,city_timezone,estado=datos_geo(ciudad,ahora)\n",
    "\t\t\tamanecer=amanece_dia(latitud,longitud,ahora)\n",
    "\t\t\tanochecer=anochece_dia(latitud,longitud,ahora)\n",
    "\t\t\t\n",
    "\t\t\t\n",
    "\t\t\t\n",
    "\t\t\tpuntero_tiempo=ahora+un_dia\n",
    "\t\t\t\n",
    "\t\t\twhile amanecer<ahora:\n",
    "\t\t\t\tamanecer=amanece_dia(latitud,longitud,puntero_tiempo)\n",
    "\t\t\t\tpuntero_tiempo=puntero_tiempo+un_dia\n",
    "\t\t\t\n",
    "\t\t\tpuntero_tiempo=ahora+un_dia\n",
    "\t\t\t\n",
    "\t\t\twhile anochecer<ahora:\n",
    "\t\t\t\tanochecer=anochece_dia(latitud,longitud,puntero_tiempo)\n",
    "\t\t\t\tpuntero_tiempo=puntero_tiempo+un_dia\n",
    "\n",
    "\t\t\tif (amanecer<anochecer):\n",
    "\t\t\t\testado='night'\n",
    "\t\t\telse: \n",
    "\t\t\t\testado='day'\n",
    "\t\t\t\t\n",
    "# diccionario ciudad : (pais, continente, longitud, latitud, hora amanecer, hora anochecer, uso horario, estado)\n",
    "\t\t\tcities[match.group(2)]=[match.group(1),match.group(3),longitud,latitud,amanecer,anochecer,city_timezone,estado]\n",
    "\treturn cities\n",
    "\n",
    "\n",
    "def genera_fichero_completo(fichero_origen_):\n",
    "\n",
    "\ttipo=r'([a-zA-ZñÑáéíóúÁÉÍÓÚâ ]+),([a-zA-ZñÑáéíóúÁÉÍÓÚüâ.\\-\\' ]+),([a-zA-ZñÑáéíóúÁÉÍÓÚ ]+)'\n",
    "\tregex = re.compile(tipo)\n",
    "\tfname_destino='/home/mharias/proyectos/gallo/city_name_timezone.txt'\n",
    "\t#g=GoogleV3(claves.API_Key_Google)\n",
    "\tg=GoogleV3(timeout=2)\n",
    "\tdestino=open(fname_destino,'w')\n",
    "\twith codecs.open(fichero_origen_, 'r','utf-16-') as f:\n",
    "\t\tfor line in f:\n",
    "\t\t\tmatch = regex.search(str(line))\n",
    "\t\t\tcity=match.group(2)\n",
    "\t\t\tdatos_geo=g.geocode(city)\n",
    "\t\t\tnueva_linea=str(line[:-2])+','+str(datos_geo.longitude)+','+str(datos_geo.latitude)+','+str(g.timezone(datos_geo.point))+'\\n'\n",
    "\t\t\tdestino.write(nueva_linea)\n",
    "\t\t\tprint (nueva_linea)\n",
    "\t\t\ttime.sleep(2)\n",
    "\t\tdestino.close()\n",
    "\n",
    "def get_static_google_map(filename_wo_extension, center=None, zoom=None, imgsize=\"512x512\", imgformat=\"jpeg\",\n",
    "\tmaptype=\"roadmap\",markers=None,_city='Madrid'):\n",
    "\t#https://maps.googleapis.com/maps/api/staticmap?zoom=1&size=600x300&maptype=roadmap&markers=color:blue%7CMadrid%7CAlmendralejo%7CKuala%20Lumpur\n",
    "\t# assemble the URL\n",
    "\turl2  =  \"http://maps.google.com/maps/api/staticmap?\" \n",
    "\t# base URL, append query params, separated by &\n",
    "\t# if center and zoom  are not given, the map will show all marker locations\n",
    "\tif center != None:\n",
    "\t\turl2 += \"center=%s&\" % center\n",
    "\t#url2 += \"center=%s&\" % \"40.714728, -73.998672\"   # latitude and longitude (up to 6-digits)\n",
    "\t#url2 += \"center=%s&\" % \"50011\" # could also be a zipcode,\n",
    "\t#url2 += \"center=%s&\" % \"Brooklyn+Bridge,New+York,NY\"  # or a search term\n",
    "\tif center != None:\n",
    "\t\turl2 += \"zoom=%i&\" % zoom  # zoom 0 (all of the world scale ) to 22 (single buildings scale)\n",
    "\t\turl2 += \"size=500x500&\"\n",
    "\t\t#url2 += \"size=%ix%i&\" % (imgsize)  # tuple of ints, up to 640 by 64\n",
    "\t\turl2 += \"format=%s&\" % imgformat\n",
    "\t\turl2 += \"maptype=%s&\" % maptype  # roadmap, satellite, hybrid, terrain\n",
    "\t\t\n",
    "\t# add markers (location and style\n",
    "\t# markers de dia\n",
    "\turl2 += \"markers=color:yellow|size:tiny\"\n",
    "\tfor marker in markers:\n",
    "\t\t#if marker[2]=='day':\n",
    "\t\t#\turl2 += \"|%f,%f\" % (marker[1],marker[0])\n",
    "\t\tif markers[marker][7]=='day':\n",
    "\t\t\turl2 += \"|%f,%f\" % (markers[marker][3],markers[marker][2])\n",
    "\n",
    "\t#markers de noche\n",
    "\turl2 += \"&markers=color:black|size:tiny\"\n",
    "\tfor marker in markers:\n",
    "\t\tif markers[marker][7]=='night':\n",
    "\t\t\turl2 += \"|%f,%f\" % (markers[marker][3],markers[marker][2])\n",
    "\n",
    "\turl2 += \"&markers=color:red|size:small\"\n",
    "\turl2 += \"|%f,%f\" % (markers[_city][3],markers[_city][2])\n",
    "\n",
    "\n",
    "\turllib.request.urlretrieve(url2, filename_wo_extension+\".\"+imgformat)\n",
    "\tpuntero_imagen=open(filename_wo_extension+'.'+imgformat,'rb')\n",
    "\n",
    "\t#url2 += \"mobile=false&\"  # optional: mobile=true will assume the image is shown on a small screen (mobile device)\n",
    "\t#url2 += \"sensor=false\"   # must be given, deals with getting loction from mobile device\n",
    "\treturn puntero_imagen"
   ]
  },
  {
   "cell_type": "code",
   "execution_count": 174,
   "metadata": {},
   "outputs": [
    {
     "name": "stderr",
     "output_type": "stream",
     "text": [
      "/Users/waly/anaconda3/envs/ML/lib/python3.6/site-packages/ipykernel_launcher.py:3: MatplotlibDeprecationWarning: \n",
      "The dedent function was deprecated in Matplotlib 3.1 and will be removed in 3.3. Use inspect.cleandoc instead.\n",
      "  This is separate from the ipykernel package so we can avoid doing imports until\n"
     ]
    },
    {
     "data": {
      "image/png": "[encoded data removed]",
      "text/plain": [
       "<Figure size 864x432 with 1 Axes>"
      ]
     },
     "metadata": {},
     "output_type": "display_data"
    }
   ],
   "source": [
    "#map = Basemap(llcrnrlon=-160, llcrnrlat=-75,urcrnrlon=160,urcrnrlat=80,projection='mill',lon_0=0)\n",
    "plt.figure(figsize=(12,6))\n",
    "map = Basemap(llcrnrlon=-160, llcrnrlat=-75,urcrnrlon=160,urcrnrlat=80,lon_0=100)\n",
    "#map = Basemap(llcrnrlon=-16, llcrnrlat=-75,urcrnrlon=160,urcrnrlat=80)\n",
    "# plot coastlines, draw label meridians and parallels.\n",
    "map.drawcoastlines()\n",
    "map.drawparallels(np.arange(-90,90,30),labels=[1,0,0,0])\n",
    "map.drawmeridians(np.arange(map.lonmin,map.lonmax+30,60),labels=[0,0,0,1])\n",
    "# fill continents 'coral' (with zorder=0), color wet areas 'aqua'\n",
    "map.drawmapboundary(fill_color='aqua')\n",
    "#map.drawmapboundary(fill_color='#A6CAE0', linewidth=0)\n",
    "#map.fillcontinents(color='coral',lake_color='aqua')\n",
    "map.fillcontinents(color='coral', alpha=0.7, lake_color='grey')\n",
    "map.drawcoastlines(linewidth=0.1, color=\"white\")\n",
    "\n",
    "# shade the night areas, with alpha transparency so the\n",
    "# map shows through. Use current time in UTC.\n",
    "date = datetime.utcnow()\n",
    "CS=map.nightshade(date)\n",
    "\n",
    "data = pd.DataFrame({\n",
    "'lat':[-58, 2, 145, 30.32, -4.03, -73.57, 36.82, -38.5],\n",
    "'lon':[-34, 49, -38, 59.93, 5.33, 45.52, -1.29, -12.97],\n",
    "'name':['Buenos Aires', 'Paris', 'melbourne', 'St Petersbourg', 'Abidjan', 'Montreal', 'Nairobi', 'Salvador']\n",
    "})\n",
    "# Add a marker per city of the data frame!\n",
    "map.plot(data['lat'], data['lon'], linestyle='none', marker=\"o\", markersize=8, \n",
    "         alpha=0.6, c=\"pink\", markeredgecolor=\"black\", markeredgewidth=1)\n",
    "\n",
    "plt.title('Day/Night Map for %s (UTC)' % date.strftime(\"%d %b %Y %H:%M:%S\"))\n",
    "plt.show()"
   ]
  },
  {
   "cell_type": "code",
   "execution_count": 58,
   "metadata": {},
   "outputs": [],
   "source": [
    "import googlemaps"
   ]
  },
  {
   "cell_type": "code",
   "execution_count": 106,
   "metadata": {},
   "outputs": [],
   "source": [
    "import googlemaps\n",
    "from datetime import datetime\n",
    "\n",
    "gmaps = googlemaps.Client(key=google_key)\n",
    "\n",
    "# Geocoding an address\n",
    "geocode_result = gmaps.geocode(['Almendralejo'])\n",
    "#geocode_result = gmaps.timezone(location=(44,-1.0)) #latitude, longitude"
   ]
  },
  {
   "cell_type": "code",
   "execution_count": 107,
   "metadata": {},
   "outputs": [
    {
     "data": {
      "text/plain": [
       "[{'address_components': [{'long_name': 'Almendralejo',\n",
       "    'short_name': 'Almendralejo',\n",
       "    'types': ['locality', 'political']},\n",
       "   {'long_name': 'Badajoz',\n",
       "    'short_name': 'Badajoz',\n",
       "    'types': ['administrative_area_level_2', 'political']},\n",
       "   {'long_name': 'Extremadura',\n",
       "    'short_name': 'EX',\n",
       "    'types': ['administrative_area_level_1', 'political']},\n",
       "   {'long_name': 'Spain',\n",
       "    'short_name': 'ES',\n",
       "    'types': ['country', 'political']},\n",
       "   {'long_name': '06200', 'short_name': '06200', 'types': ['postal_code']}],\n",
       "  'formatted_address': '06200 Almendralejo, Badajoz, Spain',\n",
       "  'geometry': {'bounds': {'northeast': {'lat': 38.7012781, 'lng': -6.3829794},\n",
       "    'southwest': {'lat': 38.66559609999999, 'lng': -6.4377341}},\n",
       "   'location': {'lat': 38.6914575, 'lng': -6.4058423},\n",
       "   'location_type': 'APPROXIMATE',\n",
       "   'viewport': {'northeast': {'lat': 38.7012781, 'lng': -6.3829794},\n",
       "    'southwest': {'lat': 38.66559609999999, 'lng': -6.4377341}}},\n",
       "  'place_id': 'ChIJ5ar6_4CnFg0RdN5FkuEVvMs',\n",
       "  'types': ['locality', 'political']}]"
      ]
     },
     "execution_count": 107,
     "metadata": {},
     "output_type": "execute_result"
    }
   ],
   "source": [
    "geocode_result"
   ]
  },
  {
   "cell_type": "code",
   "execution_count": 213,
   "metadata": {},
   "outputs": [],
   "source": [
    "class Gallo:\n",
    "    \n",
    "    def __init__(self):\n",
    "        1==1\n",
    "    \n",
    "    def load_cities_formatted(self,fichero_ciudades_formateados):\n",
    "        self.path_fichero_ciudades_formateado=fichero_ciudades_formateados\n",
    "        cities=pd.read_csv(fichero_ciudades_formateados,\n",
    "                           names=['Pais','Ciudad','Continente','localizacion','Time_Zone','offset_UTC'])\n",
    "        self.ciudades=cities\n",
    "        self.ciudades['localizacion']=self.ciudades.apply(lambda x:ast.literal_eval(x['localizacion']),axis=1)\n",
    "    \n",
    "    def load_cities_raw(self,fichero_ciudades_raw):\n",
    "        self.ciudades=pd.read_csv(fichero_ciudades_raw,names=['Pais','Ciudad','Continente'])\n",
    "        self.ciudades['localizacion']=ciudades.apply(lambda x :lat_y_lon((x['Ciudad'],x['Pais']),gmaps),axis=1)\n",
    "        self.ciudades['Time_Zone']=ciudades.apply(lambda x :time_zone(x['localizacion'],gmaps),axis=1)\n",
    "        self.ciudades['offset_UTC']=ciudades.apply(lambda x:x['Time_Zone'][0]/3600,axis=1)\n",
    "        self.ciudades['Time_Zone']=ciudades.apply(lambda x:x['Time_Zone'][1],axis=1)\n",
    "        self.ciudades['localizacion']=ciudades.apply(lambda x:ast.literal_eval(x['localizacion']),axis=1)\n",
    "        \n",
    "    def save_cities(self,path_fichero):\n",
    "        self.ciudades.to_csv(path_fichero,header=False,index=False)\n",
    "\n",
    "        \n",
    "    def grados_a_radianes(self,grados_):\n",
    "        return grados_/360*2*math.pi\n",
    "\n",
    "\n",
    "    def radianes_a_grados(self,radianes_):\n",
    "        return radianes_*360/2/math.pi\n",
    "\n",
    "\n",
    "    def ecuacion_tiempo(self,dia_):\n",
    "        valor=229.18*(-0.0334*math.sin(2*math.pi/365.24*dia_)+0.04184*math.sin(4*math.pi/365.24*dia_+3.5884))\n",
    "        return valor\n",
    "\n",
    "\n",
    "    def declinacion(self,n_):\n",
    "        valor=-23.45*math.cos(grados_a_radianes(360/365*(n_+10)))\n",
    "        return valor\n",
    "\n",
    "\n",
    "    def angulo_solar(self,latitud_,declinacion_):\n",
    "        a=math.sin(grados_a_radianes(-0.833))-math.sin(grados_a_radianes(latitud_))*math.sin(grados_a_radianes(declinacion_))\n",
    "        b=math.cos(grados_a_radianes(declinacion_))*math.cos(grados_a_radianes(latitud_))\n",
    "        cosenow=a/b\n",
    "        return math.acos(cosenow)\n",
    "    \n",
    "    def amanece_dia (self,latitud_,longitud_,dia_):\n",
    "        timezone_utc=timezone('utc')\n",
    "        orden_dia=int(dia_.strftime('%j'))\n",
    "        declinacion_dia=self.declinacion(orden_dia)\n",
    "        angulo=self.angulo_solar(latitud_,declinacion_dia)\n",
    "        NHoras=self.radianes_a_grados(angulo)/7.5\n",
    "        ajuste=self.ecuacion_tiempo(orden_dia)\n",
    "        mediodia_solar=datetime.datetime(dia_.year,dia_.month,dia_.day,12,0,0)\n",
    "        arco=datetime.timedelta(hours=NHoras/2)\n",
    "        hora_amanecer_solar=mediodia_solar-arco\n",
    "        hora_amanecer_utc=hora_amanecer_solar-datetime.timedelta(hours=longitud_/15)\n",
    "        hora_amanecer_utc_ajustada=hora_amanecer_utc-datetime.timedelta(minutes=ajuste)\n",
    "        hora_amanecer_utc_ajustada_localizada=timezone_utc.localize(hora_amanecer_utc_ajustada)\n",
    "        hora_amanecer_utc_ajustada_localizada=hora_amanecer_utc_ajustada_localizada.replace(year=dia_.year,month=dia_.month,day=dia_.day)\n",
    "        return hora_amanecer_utc_ajustada_localizada\n",
    "    \n",
    "    def anochece_dia (latitud_,longitud_,dia_):\n",
    "#hay que pasarle ol objeto geocoder para evitar abrir muchos y posibles problemas de saturacion\n",
    "        timezone_utc=timezone('utc')\n",
    "        orden_dia=int(dia_.strftime('%j'))\n",
    "        declinacion_dia=declinacion(orden_dia)\n",
    "        angulo=angulo_solar(latitud_,declinacion_dia)\n",
    "        NHoras=radianes_a_grados(angulo)/7.5\n",
    "        ajuste=ecuacion_tiempo(orden_dia)\n",
    "        mediodia_solar=datetime.datetime(dia_.year,dia_.month,dia_.day,12,0,0)\n",
    "        arco=datetime.timedelta(hours=NHoras/2)\n",
    "        hora_anochecer_solar=mediodia_solar+arco\n",
    "        hora_anochecer_utc=hora_anochecer_solar-datetime.timedelta(hours=longitud_/15)\n",
    "        hora_anochecer_utc_ajustada=hora_anochecer_utc-datetime.timedelta(minutes=ajuste)\n",
    "        hora_anochecer_utc_ajustada_localizada=timezone_utc.localize(hora_anochecer_utc_ajustada)\n",
    "        hora_anochecer_utc_ajustada_localizada=hora_anochecer_utc_ajustada_localizada.replace(year=dia_.year,month=dia_.month,day=dia_.day)\n",
    "        return hora_anochecer_utc_ajustada_localizada\n",
    "    \n",
    "    def annade_amanece_anochece(self):\n",
    "        hora_comparativa='%H:%M:%S %m %d'\n",
    "        ahora=datetime.datetime.utcnow()\n",
    "        self.ciudades['amanece']=self.ciudades.apply(lambda x:amanece_dia(x['localizacion']['lat'],\n",
    "                                                                          x['localizacion']['lng'],ahora).\n",
    "                                                     strftime(hora_comparativa),axis=1)\n",
    "        self.ciudades['anochece']=self.ciudades.apply(lambda x:anochece_dia(x['localizacion']['lat'],\n",
    "                                                                          x['localizacion']['lng'],ahora).\n",
    "                                                      strftime(hora_comparativa),axis=1)\n",
    "     \n",
    "    def send_tweet(ciudad,pais,continente,hora_local,hora_utc,nueva_hora):\n",
    "        api=twitter.Api(self.consumer_key_,\n",
    "               self.consumer_secret_,\n",
    "               self.access_token_key_,\n",
    "               self.access_token_secret_,\n",
    "               sleep_on_rate_limit=True)\n",
    "        Text1=('Good morning, sunrising at {0}, {1} ({2})'.format('#'+ciudad.replace(' ',''),\n",
    "                                                                  pais,',('+continente+')'))\n",
    "        Text2=('{0:<10} {1:<15}'.format('UTC time',hora_utc))\n",
    "        Text3=('{0:<10} {1:<15}'.format('Local time',hora_local.strftime(hora)))\n",
    "        Text4=('{0:<10} {1:<15}'.format('Tomorrow sunrise',nueva_hora.strftime(hora)))\n",
    "        print (Text1+CR+Text2+CR+Text3+CR+Text4)\n",
    "        \n",
    "        #estado = api.PostUpdate('Checking tweet posting')\n",
    "        return estado                                                \n",
    "    \n",
    "    def run(self):\n",
    "        while True:\n",
    "            ahora=datetime.datetime.utcnow()\n",
    "            ahora_texto=ahora.strftime(hora_comparativa)\n",
    "            lista_ciudades=self.ciudades[self.ciudades['amanece']==ahora_texto]\n",
    "            \n",
    "            if lista_ciudades.shape[0]!=0:\n",
    "                ahora_utc_texto=ahora+datetime.timedelta(hours=lista_ciudades.loc[0]['offset_UTC']/3600)\n",
    "                send_tweet(ahora_texto,ahora_utc_texto)"
   ]
  },
  {
   "cell_type": "code",
   "execution_count": 184,
   "metadata": {},
   "outputs": [],
   "source": [
    "gallo=Gallo()\n",
    "gallo.load_cities_formatted(fichero_format)\n"
   ]
  },
  {
   "cell_type": "code",
   "execution_count": 185,
   "metadata": {},
   "outputs": [],
   "source": [
    "gallo.annade_amanece_anochece()"
   ]
  },
  {
   "cell_type": "code",
   "execution_count": 209,
   "metadata": {},
   "outputs": [
    {
     "data": {
      "text/plain": [
       "datetime.timedelta(0, 3600)"
      ]
     },
     "execution_count": 209,
     "metadata": {},
     "output_type": "execute_result"
    }
   ],
   "source": [
    "datetime.timedelta(hours=1)"
   ]
  },
  {
   "cell_type": "code",
   "execution_count": 186,
   "metadata": {},
   "outputs": [
    {
     "ename": "KeyboardInterrupt",
     "evalue": "",
     "output_type": "error",
     "traceback": [
      "\u001b[0;31m---------------------------------------------------------------------------\u001b[0m",
      "\u001b[0;31mKeyboardInterrupt\u001b[0m                         Traceback (most recent call last)",
      "\u001b[0;32m<ipython-input-186-4b36df5d600d>\u001b[0m in \u001b[0;36m<module>\u001b[0;34m\u001b[0m\n\u001b[0;32m----> 1\u001b[0;31m \u001b[0mgallo\u001b[0m\u001b[0;34m.\u001b[0m\u001b[0mrun\u001b[0m\u001b[0;34m(\u001b[0m\u001b[0;34m)\u001b[0m\u001b[0;34m\u001b[0m\u001b[0;34m\u001b[0m\u001b[0m\n\u001b[0m",
      "\u001b[0;32m<ipython-input-183-fe01a0aaab04>\u001b[0m in \u001b[0;36mrun\u001b[0;34m(self)\u001b[0m\n\u001b[1;32m     90\u001b[0m         \u001b[0;32mwhile\u001b[0m \u001b[0;32mTrue\u001b[0m\u001b[0;34m:\u001b[0m\u001b[0;34m\u001b[0m\u001b[0;34m\u001b[0m\u001b[0m\n\u001b[1;32m     91\u001b[0m             \u001b[0mahora\u001b[0m\u001b[0;34m=\u001b[0m\u001b[0mdatetime\u001b[0m\u001b[0;34m.\u001b[0m\u001b[0mdatetime\u001b[0m\u001b[0;34m.\u001b[0m\u001b[0mutcnow\u001b[0m\u001b[0;34m(\u001b[0m\u001b[0;34m)\u001b[0m\u001b[0;34m.\u001b[0m\u001b[0mstrftime\u001b[0m\u001b[0;34m(\u001b[0m\u001b[0mhora_comparativa\u001b[0m\u001b[0;34m)\u001b[0m\u001b[0;34m\u001b[0m\u001b[0;34m\u001b[0m\u001b[0m\n\u001b[0;32m---> 92\u001b[0;31m             \u001b[0mlista_ciudades\u001b[0m\u001b[0;34m=\u001b[0m\u001b[0mself\u001b[0m\u001b[0;34m.\u001b[0m\u001b[0mciudades\u001b[0m\u001b[0;34m[\u001b[0m\u001b[0mself\u001b[0m\u001b[0;34m.\u001b[0m\u001b[0mciudades\u001b[0m\u001b[0;34m[\u001b[0m\u001b[0;34m'amanece'\u001b[0m\u001b[0;34m]\u001b[0m\u001b[0;34m==\u001b[0m\u001b[0mahora\u001b[0m\u001b[0;34m]\u001b[0m\u001b[0;34m\u001b[0m\u001b[0;34m\u001b[0m\u001b[0m\n\u001b[0m\u001b[1;32m     93\u001b[0m             \u001b[0;32mif\u001b[0m \u001b[0mlista_ciudades\u001b[0m\u001b[0;34m.\u001b[0m\u001b[0mshape\u001b[0m\u001b[0;34m[\u001b[0m\u001b[0;36m0\u001b[0m\u001b[0;34m]\u001b[0m\u001b[0;34m!=\u001b[0m\u001b[0;36m0\u001b[0m\u001b[0;34m:\u001b[0m\u001b[0;34m\u001b[0m\u001b[0;34m\u001b[0m\u001b[0m\n\u001b[1;32m     94\u001b[0m                 \u001b[0mprint\u001b[0m \u001b[0;34m(\u001b[0m\u001b[0mlista_ciudades\u001b[0m\u001b[0;34m)\u001b[0m\u001b[0;34m\u001b[0m\u001b[0;34m\u001b[0m\u001b[0m\n",
      "\u001b[0;32m~/anaconda3/envs/ML/lib/python3.6/site-packages/pandas/core/ops/__init__.py\u001b[0m in \u001b[0;36mwrapper\u001b[0;34m(self, other, axis)\u001b[0m\n\u001b[1;32m   1236\u001b[0m             \u001b[0mres_values\u001b[0m \u001b[0;34m=\u001b[0m \u001b[0mcom\u001b[0m\u001b[0;34m.\u001b[0m\u001b[0mvalues_from_object\u001b[0m\u001b[0;34m(\u001b[0m\u001b[0mres\u001b[0m\u001b[0;34m)\u001b[0m\u001b[0;34m\u001b[0m\u001b[0;34m\u001b[0m\u001b[0m\n\u001b[1;32m   1237\u001b[0m             return self._constructor(\n\u001b[0;32m-> 1238\u001b[0;31m                 \u001b[0mres_values\u001b[0m\u001b[0;34m,\u001b[0m \u001b[0mindex\u001b[0m\u001b[0;34m=\u001b[0m\u001b[0mself\u001b[0m\u001b[0;34m.\u001b[0m\u001b[0mindex\u001b[0m\u001b[0;34m,\u001b[0m \u001b[0mname\u001b[0m\u001b[0;34m=\u001b[0m\u001b[0mres_name\u001b[0m\u001b[0;34m,\u001b[0m \u001b[0mdtype\u001b[0m\u001b[0;34m=\u001b[0m\u001b[0;34m\"bool\"\u001b[0m\u001b[0;34m\u001b[0m\u001b[0;34m\u001b[0m\u001b[0m\n\u001b[0m\u001b[1;32m   1239\u001b[0m             )\n\u001b[1;32m   1240\u001b[0m \u001b[0;34m\u001b[0m\u001b[0m\n",
      "\u001b[0;32m~/anaconda3/envs/ML/lib/python3.6/site-packages/pandas/core/series.py\u001b[0m in \u001b[0;36m__init__\u001b[0;34m(self, data, index, dtype, name, copy, fastpath)\u001b[0m\n\u001b[1;32m    224\u001b[0m                     \u001b[0mdtype\u001b[0m \u001b[0;34m=\u001b[0m \u001b[0mdata\u001b[0m\u001b[0;34m.\u001b[0m\u001b[0mdtype\u001b[0m\u001b[0;34m\u001b[0m\u001b[0;34m\u001b[0m\u001b[0m\n\u001b[1;32m    225\u001b[0m \u001b[0;34m\u001b[0m\u001b[0m\n\u001b[0;32m--> 226\u001b[0;31m                 \u001b[0mdtype\u001b[0m \u001b[0;34m=\u001b[0m \u001b[0mself\u001b[0m\u001b[0;34m.\u001b[0m\u001b[0m_validate_dtype\u001b[0m\u001b[0;34m(\u001b[0m\u001b[0mdtype\u001b[0m\u001b[0;34m)\u001b[0m\u001b[0;34m\u001b[0m\u001b[0;34m\u001b[0m\u001b[0m\n\u001b[0m\u001b[1;32m    227\u001b[0m \u001b[0;34m\u001b[0m\u001b[0m\n\u001b[1;32m    228\u001b[0m             \u001b[0;32mif\u001b[0m \u001b[0misinstance\u001b[0m\u001b[0;34m(\u001b[0m\u001b[0mdata\u001b[0m\u001b[0;34m,\u001b[0m \u001b[0mMultiIndex\u001b[0m\u001b[0;34m)\u001b[0m\u001b[0;34m:\u001b[0m\u001b[0;34m\u001b[0m\u001b[0;34m\u001b[0m\u001b[0m\n",
      "\u001b[0;32m~/anaconda3/envs/ML/lib/python3.6/site-packages/pandas/core/generic.py\u001b[0m in \u001b[0;36m_validate_dtype\u001b[0;34m(self, dtype)\u001b[0m\n\u001b[1;32m    229\u001b[0m \u001b[0;34m\u001b[0m\u001b[0m\n\u001b[1;32m    230\u001b[0m         \u001b[0;32mif\u001b[0m \u001b[0mdtype\u001b[0m \u001b[0;32mis\u001b[0m \u001b[0;32mnot\u001b[0m \u001b[0;32mNone\u001b[0m\u001b[0;34m:\u001b[0m\u001b[0;34m\u001b[0m\u001b[0;34m\u001b[0m\u001b[0m\n\u001b[0;32m--> 231\u001b[0;31m             \u001b[0mdtype\u001b[0m \u001b[0;34m=\u001b[0m \u001b[0mpandas_dtype\u001b[0m\u001b[0;34m(\u001b[0m\u001b[0mdtype\u001b[0m\u001b[0;34m)\u001b[0m\u001b[0;34m\u001b[0m\u001b[0;34m\u001b[0m\u001b[0m\n\u001b[0m\u001b[1;32m    232\u001b[0m \u001b[0;34m\u001b[0m\u001b[0m\n\u001b[1;32m    233\u001b[0m             \u001b[0;31m# a compound dtype\u001b[0m\u001b[0;34m\u001b[0m\u001b[0;34m\u001b[0m\u001b[0;34m\u001b[0m\u001b[0m\n",
      "\u001b[0;32m~/anaconda3/envs/ML/lib/python3.6/site-packages/pandas/core/dtypes/common.py\u001b[0m in \u001b[0;36mpandas_dtype\u001b[0;34m(dtype)\u001b[0m\n\u001b[1;32m   2048\u001b[0m     \u001b[0;31m# raise a consistent TypeError if failed\u001b[0m\u001b[0;34m\u001b[0m\u001b[0;34m\u001b[0m\u001b[0;34m\u001b[0m\u001b[0m\n\u001b[1;32m   2049\u001b[0m     \u001b[0;32mtry\u001b[0m\u001b[0;34m:\u001b[0m\u001b[0;34m\u001b[0m\u001b[0;34m\u001b[0m\u001b[0m\n\u001b[0;32m-> 2050\u001b[0;31m         \u001b[0mnpdtype\u001b[0m \u001b[0;34m=\u001b[0m \u001b[0mnp\u001b[0m\u001b[0;34m.\u001b[0m\u001b[0mdtype\u001b[0m\u001b[0;34m(\u001b[0m\u001b[0mdtype\u001b[0m\u001b[0;34m)\u001b[0m\u001b[0;34m\u001b[0m\u001b[0;34m\u001b[0m\u001b[0m\n\u001b[0m\u001b[1;32m   2051\u001b[0m     \u001b[0;32mexcept\u001b[0m \u001b[0mException\u001b[0m\u001b[0;34m:\u001b[0m\u001b[0;34m\u001b[0m\u001b[0;34m\u001b[0m\u001b[0m\n\u001b[1;32m   2052\u001b[0m         \u001b[0;31m# we don't want to force a repr of the non-string\u001b[0m\u001b[0;34m\u001b[0m\u001b[0;34m\u001b[0m\u001b[0;34m\u001b[0m\u001b[0m\n",
      "\u001b[0;31mKeyboardInterrupt\u001b[0m: "
     ]
    }
   ],
   "source": [
    "gallo.run()"
   ]
  },
  {
   "cell_type": "code",
   "execution_count": null,
   "metadata": {},
   "outputs": [],
   "source": []
  },
  {
   "cell_type": "code",
   "execution_count": 150,
   "metadata": {},
   "outputs": [
    {
     "data": {
      "text/html": [
       "<div>\n",
       "<style scoped>\n",
       "    .dataframe tbody tr th:only-of-type {\n",
       "        vertical-align: middle;\n",
       "    }\n",
       "\n",
       "    .dataframe tbody tr th {\n",
       "        vertical-align: top;\n",
       "    }\n",
       "\n",
       "    .dataframe thead th {\n",
       "        text-align: right;\n",
       "    }\n",
       "</style>\n",
       "<table border=\"1\" class=\"dataframe\">\n",
       "  <thead>\n",
       "    <tr style=\"text-align: right;\">\n",
       "      <th></th>\n",
       "      <th>Pais</th>\n",
       "      <th>Ciudad</th>\n",
       "      <th>Continente</th>\n",
       "      <th>localizacion</th>\n",
       "      <th>Time_Zone</th>\n",
       "      <th>offset_UTC</th>\n",
       "      <th>amanece</th>\n",
       "      <th>anochece</th>\n",
       "    </tr>\n",
       "  </thead>\n",
       "  <tbody>\n",
       "    <tr>\n",
       "      <td>0</td>\n",
       "      <td>Afghanistan</td>\n",
       "      <td>Kabul</td>\n",
       "      <td>Asia</td>\n",
       "      <td>{'lat': 34.5553494, 'lng': 69.207486}</td>\n",
       "      <td>Afghanistan Time</td>\n",
       "      <td>16200</td>\n",
       "      <td>02:10:41 02 15</td>\n",
       "      <td>13:03:43 02 15</td>\n",
       "    </tr>\n",
       "    <tr>\n",
       "      <td>1</td>\n",
       "      <td>Albania</td>\n",
       "      <td>Tirana</td>\n",
       "      <td>Europe</td>\n",
       "      <td>{'lat': 41.3275459, 'lng': 19.8186982}</td>\n",
       "      <td>Central European Standard Time</td>\n",
       "      <td>3600</td>\n",
       "      <td>05:38:22 02 15</td>\n",
       "      <td>16:11:09 02 15</td>\n",
       "    </tr>\n",
       "    <tr>\n",
       "      <td>2</td>\n",
       "      <td>Algeria</td>\n",
       "      <td>Algiers</td>\n",
       "      <td>Africa</td>\n",
       "      <td>{'lat': 36.753768, 'lng': 3.0587561}</td>\n",
       "      <td>Central European Standard Time</td>\n",
       "      <td>3600</td>\n",
       "      <td>06:38:22 02 15</td>\n",
       "      <td>17:25:14 02 15</td>\n",
       "    </tr>\n",
       "    <tr>\n",
       "      <td>3</td>\n",
       "      <td>Andorra</td>\n",
       "      <td>Andorra la Vella</td>\n",
       "      <td>Europe</td>\n",
       "      <td>{'lat': 42.50631740000001, 'lng': 1.5218355}</td>\n",
       "      <td>Central European Standard Time</td>\n",
       "      <td>3600</td>\n",
       "      <td>06:53:32 02 15</td>\n",
       "      <td>17:22:21 02 15</td>\n",
       "    </tr>\n",
       "    <tr>\n",
       "      <td>4</td>\n",
       "      <td>Angola</td>\n",
       "      <td>Luanda</td>\n",
       "      <td>Africa</td>\n",
       "      <td>{'lat': -8.8146556, 'lng': 13.2301756}</td>\n",
       "      <td>West Africa Standard Time</td>\n",
       "      <td>3600</td>\n",
       "      <td>05:09:12 02 15</td>\n",
       "      <td>17:33:02 02 15</td>\n",
       "    </tr>\n",
       "    <tr>\n",
       "      <td>...</td>\n",
       "      <td>...</td>\n",
       "      <td>...</td>\n",
       "      <td>...</td>\n",
       "      <td>...</td>\n",
       "      <td>...</td>\n",
       "      <td>...</td>\n",
       "      <td>...</td>\n",
       "      <td>...</td>\n",
       "    </tr>\n",
       "    <tr>\n",
       "      <td>210</td>\n",
       "      <td>Spain</td>\n",
       "      <td>Seville</td>\n",
       "      <td>Europe</td>\n",
       "      <td>{'lat': 37.3890924, 'lng': -5.9844589}</td>\n",
       "      <td>Central European Standard Time</td>\n",
       "      <td>3600</td>\n",
       "      <td>07:15:28 02 15</td>\n",
       "      <td>18:00:29 02 15</td>\n",
       "    </tr>\n",
       "    <tr>\n",
       "      <td>211</td>\n",
       "      <td>Spain</td>\n",
       "      <td>Pontevedra</td>\n",
       "      <td>Europe</td>\n",
       "      <td>{'lat': 42.4298846, 'lng': -8.6446202}</td>\n",
       "      <td>Central European Standard Time</td>\n",
       "      <td>3600</td>\n",
       "      <td>07:34:04 02 15</td>\n",
       "      <td>18:03:09 02 15</td>\n",
       "    </tr>\n",
       "    <tr>\n",
       "      <td>212</td>\n",
       "      <td>Spain</td>\n",
       "      <td>Pozuelo de Alarcon</td>\n",
       "      <td>Europe</td>\n",
       "      <td>{'lat': 40.4440627, 'lng': -3.8058517}</td>\n",
       "      <td>Central European Standard Time</td>\n",
       "      <td>3600</td>\n",
       "      <td>07:11:26 02 15</td>\n",
       "      <td>17:47:05 02 15</td>\n",
       "    </tr>\n",
       "    <tr>\n",
       "      <td>213</td>\n",
       "      <td>Spain</td>\n",
       "      <td>Las Rozas</td>\n",
       "      <td>Europe</td>\n",
       "      <td>{'lat': 40.4935329, 'lng': -3.8757916}</td>\n",
       "      <td>Central European Standard Time</td>\n",
       "      <td>3600</td>\n",
       "      <td>07:11:48 02 15</td>\n",
       "      <td>17:47:17 02 15</td>\n",
       "    </tr>\n",
       "    <tr>\n",
       "      <td>214</td>\n",
       "      <td>Israel</td>\n",
       "      <td>Tel Aviv</td>\n",
       "      <td>Asia</td>\n",
       "      <td>{'lat': 32.0852999, 'lng': 34.78176759999999}</td>\n",
       "      <td>Israel Standard Time</td>\n",
       "      <td>7200</td>\n",
       "      <td>04:25:07 02 15</td>\n",
       "      <td>15:24:42 02 15</td>\n",
       "    </tr>\n",
       "  </tbody>\n",
       "</table>\n",
       "<p>215 rows × 8 columns</p>\n",
       "</div>"
      ],
      "text/plain": [
       "            Pais              Ciudad Continente  \\\n",
       "0    Afghanistan               Kabul       Asia   \n",
       "1        Albania              Tirana     Europe   \n",
       "2        Algeria             Algiers     Africa   \n",
       "3        Andorra    Andorra la Vella     Europe   \n",
       "4         Angola              Luanda     Africa   \n",
       "..           ...                 ...        ...   \n",
       "210        Spain             Seville     Europe   \n",
       "211        Spain          Pontevedra     Europe   \n",
       "212        Spain  Pozuelo de Alarcon     Europe   \n",
       "213        Spain           Las Rozas     Europe   \n",
       "214       Israel            Tel Aviv       Asia   \n",
       "\n",
       "                                      localizacion  \\\n",
       "0            {'lat': 34.5553494, 'lng': 69.207486}   \n",
       "1           {'lat': 41.3275459, 'lng': 19.8186982}   \n",
       "2             {'lat': 36.753768, 'lng': 3.0587561}   \n",
       "3     {'lat': 42.50631740000001, 'lng': 1.5218355}   \n",
       "4           {'lat': -8.8146556, 'lng': 13.2301756}   \n",
       "..                                             ...   \n",
       "210         {'lat': 37.3890924, 'lng': -5.9844589}   \n",
       "211         {'lat': 42.4298846, 'lng': -8.6446202}   \n",
       "212         {'lat': 40.4440627, 'lng': -3.8058517}   \n",
       "213         {'lat': 40.4935329, 'lng': -3.8757916}   \n",
       "214  {'lat': 32.0852999, 'lng': 34.78176759999999}   \n",
       "\n",
       "                          Time_Zone  offset_UTC         amanece  \\\n",
       "0                  Afghanistan Time       16200  02:10:41 02 15   \n",
       "1    Central European Standard Time        3600  05:38:22 02 15   \n",
       "2    Central European Standard Time        3600  06:38:22 02 15   \n",
       "3    Central European Standard Time        3600  06:53:32 02 15   \n",
       "4         West Africa Standard Time        3600  05:09:12 02 15   \n",
       "..                              ...         ...             ...   \n",
       "210  Central European Standard Time        3600  07:15:28 02 15   \n",
       "211  Central European Standard Time        3600  07:34:04 02 15   \n",
       "212  Central European Standard Time        3600  07:11:26 02 15   \n",
       "213  Central European Standard Time        3600  07:11:48 02 15   \n",
       "214            Israel Standard Time        7200  04:25:07 02 15   \n",
       "\n",
       "           anochece  \n",
       "0    13:03:43 02 15  \n",
       "1    16:11:09 02 15  \n",
       "2    17:25:14 02 15  \n",
       "3    17:22:21 02 15  \n",
       "4    17:33:02 02 15  \n",
       "..              ...  \n",
       "210  18:00:29 02 15  \n",
       "211  18:03:09 02 15  \n",
       "212  17:47:05 02 15  \n",
       "213  17:47:17 02 15  \n",
       "214  15:24:42 02 15  \n",
       "\n",
       "[215 rows x 8 columns]"
      ]
     },
     "execution_count": 150,
     "metadata": {},
     "output_type": "execute_result"
    }
   ],
   "source": [
    "gallo.ciudades"
   ]
  },
  {
   "cell_type": "code",
   "execution_count": 97,
   "metadata": {},
   "outputs": [
    {
     "data": {
      "text/plain": [
       "'cities_formatted.csv'"
      ]
     },
     "execution_count": 97,
     "metadata": {},
     "output_type": "execute_result"
    }
   ],
   "source": [
    "gallo.path_fichero_ciudades_formateado"
   ]
  },
  {
   "cell_type": "code",
   "execution_count": 6,
   "metadata": {},
   "outputs": [],
   "source": [
    "fichero='cities.csv'\n",
    "fichero_format='cities_formatted.csv'"
   ]
  },
  {
   "cell_type": "code",
   "execution_count": 54,
   "metadata": {},
   "outputs": [],
   "source": [
    "with open(fichero,'rb') as file:\n",
    " data=file.read()"
   ]
  },
  {
   "cell_type": "code",
   "execution_count": 162,
   "metadata": {},
   "outputs": [],
   "source": [
    "ciudades=pd.read_csv(fichero,names=['Pais','Ciudad','Continente'])"
   ]
  },
  {
   "cell_type": "code",
   "execution_count": 67,
   "metadata": {},
   "outputs": [
    {
     "data": {
      "text/plain": [
       "'cities.csv'"
      ]
     },
     "execution_count": 67,
     "metadata": {},
     "output_type": "execute_result"
    }
   ],
   "source": [
    "fichero"
   ]
  },
  {
   "cell_type": "code",
   "execution_count": 71,
   "metadata": {},
   "outputs": [
    {
     "data": {
      "text/html": [
       "<div>\n",
       "<style scoped>\n",
       "    .dataframe tbody tr th:only-of-type {\n",
       "        vertical-align: middle;\n",
       "    }\n",
       "\n",
       "    .dataframe tbody tr th {\n",
       "        vertical-align: top;\n",
       "    }\n",
       "\n",
       "    .dataframe thead th {\n",
       "        text-align: right;\n",
       "    }\n",
       "</style>\n",
       "<table border=\"1\" class=\"dataframe\">\n",
       "  <thead>\n",
       "    <tr style=\"text-align: right;\">\n",
       "      <th></th>\n",
       "      <th>Pais</th>\n",
       "      <th>Ciudad</th>\n",
       "      <th>Continente</th>\n",
       "    </tr>\n",
       "  </thead>\n",
       "  <tbody>\n",
       "    <tr>\n",
       "      <td>164</td>\n",
       "      <td>Spain</td>\n",
       "      <td>Madrid</td>\n",
       "      <td>Europe</td>\n",
       "    </tr>\n",
       "    <tr>\n",
       "      <td>199</td>\n",
       "      <td>Spain</td>\n",
       "      <td>Herrera del Duque</td>\n",
       "      <td>Europe</td>\n",
       "    </tr>\n",
       "    <tr>\n",
       "      <td>200</td>\n",
       "      <td>Spain</td>\n",
       "      <td>Zamora</td>\n",
       "      <td>Europe</td>\n",
       "    </tr>\n",
       "    <tr>\n",
       "      <td>201</td>\n",
       "      <td>Spain</td>\n",
       "      <td>La Coruña</td>\n",
       "      <td>Europe</td>\n",
       "    </tr>\n",
       "    <tr>\n",
       "      <td>202</td>\n",
       "      <td>Spain</td>\n",
       "      <td>Barcelona</td>\n",
       "      <td>Europe</td>\n",
       "    </tr>\n",
       "    <tr>\n",
       "      <td>203</td>\n",
       "      <td>Spain</td>\n",
       "      <td>Ceuta</td>\n",
       "      <td>Africa</td>\n",
       "    </tr>\n",
       "    <tr>\n",
       "      <td>204</td>\n",
       "      <td>Spain</td>\n",
       "      <td>Melilla</td>\n",
       "      <td>Africa</td>\n",
       "    </tr>\n",
       "    <tr>\n",
       "      <td>205</td>\n",
       "      <td>Spain</td>\n",
       "      <td>Almendralejo</td>\n",
       "      <td>Europe</td>\n",
       "    </tr>\n",
       "    <tr>\n",
       "      <td>206</td>\n",
       "      <td>Spain</td>\n",
       "      <td>Tres Cantos</td>\n",
       "      <td>Europe</td>\n",
       "    </tr>\n",
       "    <tr>\n",
       "      <td>207</td>\n",
       "      <td>Spain</td>\n",
       "      <td>Javea</td>\n",
       "      <td>Europe</td>\n",
       "    </tr>\n",
       "    <tr>\n",
       "      <td>208</td>\n",
       "      <td>Spain</td>\n",
       "      <td>Palma de Mallorca</td>\n",
       "      <td>Europe</td>\n",
       "    </tr>\n",
       "    <tr>\n",
       "      <td>209</td>\n",
       "      <td>Spain</td>\n",
       "      <td>Bilbao</td>\n",
       "      <td>Europe</td>\n",
       "    </tr>\n",
       "    <tr>\n",
       "      <td>210</td>\n",
       "      <td>Spain</td>\n",
       "      <td>Seville</td>\n",
       "      <td>Europe</td>\n",
       "    </tr>\n",
       "    <tr>\n",
       "      <td>211</td>\n",
       "      <td>Spain</td>\n",
       "      <td>Pontevedra</td>\n",
       "      <td>Europe</td>\n",
       "    </tr>\n",
       "    <tr>\n",
       "      <td>212</td>\n",
       "      <td>Spain</td>\n",
       "      <td>Pozuelo de Alarcon</td>\n",
       "      <td>Europe</td>\n",
       "    </tr>\n",
       "    <tr>\n",
       "      <td>213</td>\n",
       "      <td>Spain</td>\n",
       "      <td>Las Rozas</td>\n",
       "      <td>Europe</td>\n",
       "    </tr>\n",
       "  </tbody>\n",
       "</table>\n",
       "</div>"
      ],
      "text/plain": [
       "      Pais              Ciudad Continente\n",
       "164  Spain              Madrid     Europe\n",
       "199  Spain   Herrera del Duque     Europe\n",
       "200  Spain              Zamora     Europe\n",
       "201  Spain           La Coruña     Europe\n",
       "202  Spain           Barcelona     Europe\n",
       "203  Spain               Ceuta     Africa\n",
       "204  Spain             Melilla     Africa\n",
       "205  Spain        Almendralejo     Europe\n",
       "206  Spain         Tres Cantos     Europe\n",
       "207  Spain               Javea     Europe\n",
       "208  Spain   Palma de Mallorca     Europe\n",
       "209  Spain              Bilbao     Europe\n",
       "210  Spain             Seville     Europe\n",
       "211  Spain          Pontevedra     Europe\n",
       "212  Spain  Pozuelo de Alarcon     Europe\n",
       "213  Spain           Las Rozas     Europe"
      ]
     },
     "execution_count": 71,
     "metadata": {},
     "output_type": "execute_result"
    }
   ],
   "source": [
    "ciudades[ciudades.Pais=='Spain']"
   ]
  },
  {
   "cell_type": "code",
   "execution_count": 57,
   "metadata": {},
   "outputs": [
    {
     "ename": "NameError",
     "evalue": "name 'googlemaps' is not defined",
     "output_type": "error",
     "traceback": [
      "\u001b[0;31m---------------------------------------------------------------------------\u001b[0m",
      "\u001b[0;31mNameError\u001b[0m                                 Traceback (most recent call last)",
      "\u001b[0;32m<ipython-input-57-0701a46e3d57>\u001b[0m in \u001b[0;36m<module>\u001b[0;34m\u001b[0m\n\u001b[0;32m----> 1\u001b[0;31m \u001b[0mgmaps\u001b[0m \u001b[0;34m=\u001b[0m \u001b[0mgooglemaps\u001b[0m\u001b[0;34m.\u001b[0m\u001b[0mClient\u001b[0m\u001b[0;34m(\u001b[0m\u001b[0mkey\u001b[0m\u001b[0;34m=\u001b[0m\u001b[0mgoogle_key\u001b[0m\u001b[0;34m)\u001b[0m\u001b[0;34m\u001b[0m\u001b[0;34m\u001b[0m\u001b[0m\n\u001b[0m",
      "\u001b[0;31mNameError\u001b[0m: name 'googlemaps' is not defined"
     ]
    }
   ],
   "source": [
    "gmaps = googlemaps.Client(key=google_key)\n"
   ]
  },
  {
   "cell_type": "code",
   "execution_count": 78,
   "metadata": {},
   "outputs": [
    {
     "ename": "AttributeError",
     "evalue": "'DataFrame' object has no attribute 'rows'",
     "output_type": "error",
     "traceback": [
      "\u001b[0;31m---------------------------------------------------------------------------\u001b[0m",
      "\u001b[0;31mAttributeError\u001b[0m                            Traceback (most recent call last)",
      "\u001b[0;32m<ipython-input-78-65b57c53d023>\u001b[0m in \u001b[0;36m<module>\u001b[0;34m\u001b[0m\n\u001b[0;32m----> 1\u001b[0;31m \u001b[0;32mfor\u001b[0m \u001b[0mentrada\u001b[0m \u001b[0;32min\u001b[0m \u001b[0mciudades\u001b[0m\u001b[0;34m.\u001b[0m\u001b[0mrows\u001b[0m\u001b[0;34m:\u001b[0m\u001b[0;34m\u001b[0m\u001b[0;34m\u001b[0m\u001b[0m\n\u001b[0m\u001b[1;32m      2\u001b[0m     \u001b[0mprint\u001b[0m \u001b[0;34m(\u001b[0m\u001b[0mentrada\u001b[0m\u001b[0;34m)\u001b[0m\u001b[0;34m\u001b[0m\u001b[0;34m\u001b[0m\u001b[0m\n",
      "\u001b[0;32m~/anaconda3/envs/ML/lib/python3.6/site-packages/pandas/core/generic.py\u001b[0m in \u001b[0;36m__getattr__\u001b[0;34m(self, name)\u001b[0m\n\u001b[1;32m   5177\u001b[0m             \u001b[0;32mif\u001b[0m \u001b[0mself\u001b[0m\u001b[0;34m.\u001b[0m\u001b[0m_info_axis\u001b[0m\u001b[0;34m.\u001b[0m\u001b[0m_can_hold_identifiers_and_holds_name\u001b[0m\u001b[0;34m(\u001b[0m\u001b[0mname\u001b[0m\u001b[0;34m)\u001b[0m\u001b[0;34m:\u001b[0m\u001b[0;34m\u001b[0m\u001b[0;34m\u001b[0m\u001b[0m\n\u001b[1;32m   5178\u001b[0m                 \u001b[0;32mreturn\u001b[0m \u001b[0mself\u001b[0m\u001b[0;34m[\u001b[0m\u001b[0mname\u001b[0m\u001b[0;34m]\u001b[0m\u001b[0;34m\u001b[0m\u001b[0;34m\u001b[0m\u001b[0m\n\u001b[0;32m-> 5179\u001b[0;31m             \u001b[0;32mreturn\u001b[0m \u001b[0mobject\u001b[0m\u001b[0;34m.\u001b[0m\u001b[0m__getattribute__\u001b[0m\u001b[0;34m(\u001b[0m\u001b[0mself\u001b[0m\u001b[0;34m,\u001b[0m \u001b[0mname\u001b[0m\u001b[0;34m)\u001b[0m\u001b[0;34m\u001b[0m\u001b[0;34m\u001b[0m\u001b[0m\n\u001b[0m\u001b[1;32m   5180\u001b[0m \u001b[0;34m\u001b[0m\u001b[0m\n\u001b[1;32m   5181\u001b[0m     \u001b[0;32mdef\u001b[0m \u001b[0m__setattr__\u001b[0m\u001b[0;34m(\u001b[0m\u001b[0mself\u001b[0m\u001b[0;34m,\u001b[0m \u001b[0mname\u001b[0m\u001b[0;34m,\u001b[0m \u001b[0mvalue\u001b[0m\u001b[0;34m)\u001b[0m\u001b[0;34m:\u001b[0m\u001b[0;34m\u001b[0m\u001b[0;34m\u001b[0m\u001b[0m\n",
      "\u001b[0;31mAttributeError\u001b[0m: 'DataFrame' object has no attribute 'rows'"
     ]
    }
   ],
   "source": [
    "for entrada in ciudades.rows:\n",
    "    print (entrada)"
   ]
  },
  {
   "cell_type": "code",
   "execution_count": 54,
   "metadata": {},
   "outputs": [],
   "source": [
    "def lat_y_lon(x,gmaps):\n",
    "    geocode_result=gmaps.geocode(x)\n",
    "    return geocode_result[0]['geometry']['location']"
   ]
  },
  {
   "cell_type": "code",
   "execution_count": 55,
   "metadata": {},
   "outputs": [],
   "source": [
    "def time_zone(x,gmaps):\n",
    "    timezone_result=gmaps.timezone(x)\n",
    "    return timezone_result['rawOffset'],timezone_result['timeZoneName']"
   ]
  },
  {
   "cell_type": "code",
   "execution_count": 56,
   "metadata": {},
   "outputs": [
    {
     "ename": "NameError",
     "evalue": "name 'gmaps' is not defined",
     "output_type": "error",
     "traceback": [
      "\u001b[0;31m---------------------------------------------------------------------------\u001b[0m",
      "\u001b[0;31mNameError\u001b[0m                                 Traceback (most recent call last)",
      "\u001b[0;32m<ipython-input-56-89d8648bfb3b>\u001b[0m in \u001b[0;36m<module>\u001b[0;34m\u001b[0m\n\u001b[0;32m----> 1\u001b[0;31m \u001b[0mlat_y_lon\u001b[0m\u001b[0;34m(\u001b[0m\u001b[0;34m'Tres Cantos'\u001b[0m\u001b[0;34m,\u001b[0m\u001b[0mgmaps\u001b[0m\u001b[0;34m)\u001b[0m\u001b[0;34m\u001b[0m\u001b[0;34m\u001b[0m\u001b[0m\n\u001b[0m",
      "\u001b[0;31mNameError\u001b[0m: name 'gmaps' is not defined"
     ]
    }
   ],
   "source": [
    "lat_y_lon('Tres Cantos',gmaps)"
   ]
  },
  {
   "cell_type": "code",
   "execution_count": 166,
   "metadata": {},
   "outputs": [],
   "source": [
    "ciudades['localizacion']=ciudades.apply(lambda x :lat_y_lon((x['Ciudad'],x['Pais']),gmaps),axis=1)"
   ]
  },
  {
   "cell_type": "code",
   "execution_count": 142,
   "metadata": {},
   "outputs": [
    {
     "data": {
      "text/plain": [
       "{'dstOffset': 0,\n",
       " 'rawOffset': 3600,\n",
       " 'status': 'OK',\n",
       " 'timeZoneId': 'Europe/Madrid',\n",
       " 'timeZoneName': 'Central European Standard Time'}"
      ]
     },
     "execution_count": 142,
     "metadata": {},
     "output_type": "execute_result"
    }
   ],
   "source": [
    "gmaps.timezone(ciudades.iloc[1]['localizacion'])"
   ]
  },
  {
   "cell_type": "code",
   "execution_count": 167,
   "metadata": {},
   "outputs": [],
   "source": [
    "ciudades['Time_Zone']=ciudades.apply(lambda x :time_zone(x['localizacion'],gmaps),axis=1)\n"
   ]
  },
  {
   "cell_type": "code",
   "execution_count": 168,
   "metadata": {},
   "outputs": [],
   "source": [
    "ciudades['offset_UTC']=ciudades.apply(lambda x:x['Time_Zone'][0],axis=1)"
   ]
  },
  {
   "cell_type": "code",
   "execution_count": 169,
   "metadata": {},
   "outputs": [],
   "source": [
    "ciudades['Time_Zone']=ciudades.apply(lambda x:x['Time_Zone'][1],axis=1)"
   ]
  },
  {
   "cell_type": "code",
   "execution_count": 171,
   "metadata": {},
   "outputs": [],
   "source": [
    "ciudades.to_csv('cities_formatted.csv',header=False,index=False)"
   ]
  },
  {
   "cell_type": "code",
   "execution_count": 4,
   "metadata": {},
   "outputs": [],
   "source": [
    "cities=pd.read_csv('cities_formatted.csv',names=['Pais','Ciudad','Continente','localizacion','Time_Zone','offset_UTC'])"
   ]
  },
  {
   "cell_type": "code",
   "execution_count": 65,
   "metadata": {},
   "outputs": [],
   "source": [
    "cities['localizacion']=cities.apply(lambda x:ast.literal_eval(x['localizacion']),axis=1)\n"
   ]
  },
  {
   "cell_type": "code",
   "execution_count": 35,
   "metadata": {},
   "outputs": [
    {
     "data": {
      "text/plain": [
       "<function __main__.amanece_dia(latitud_, longitud_, dia_)>"
      ]
     },
     "execution_count": 35,
     "metadata": {},
     "output_type": "execute_result"
    }
   ],
   "source": [
    "ast.literal_eval(cities[cities['Ciudad']=='Madrid'].loc[164]['localizacion'])['lat']\n"
   ]
  },
  {
   "cell_type": "code",
   "execution_count": 83,
   "metadata": {},
   "outputs": [
    {
     "data": {
      "text/html": [
       "<div>\n",
       "<style scoped>\n",
       "    .dataframe tbody tr th:only-of-type {\n",
       "        vertical-align: middle;\n",
       "    }\n",
       "\n",
       "    .dataframe tbody tr th {\n",
       "        vertical-align: top;\n",
       "    }\n",
       "\n",
       "    .dataframe thead th {\n",
       "        text-align: right;\n",
       "    }\n",
       "</style>\n",
       "<table border=\"1\" class=\"dataframe\">\n",
       "  <thead>\n",
       "    <tr style=\"text-align: right;\">\n",
       "      <th></th>\n",
       "      <th>Pais</th>\n",
       "      <th>Ciudad</th>\n",
       "      <th>Continente</th>\n",
       "      <th>localizacion</th>\n",
       "      <th>Time_Zone</th>\n",
       "      <th>offset_UTC</th>\n",
       "    </tr>\n",
       "  </thead>\n",
       "  <tbody>\n",
       "    <tr>\n",
       "      <td>164</td>\n",
       "      <td>Spain</td>\n",
       "      <td>Madrid</td>\n",
       "      <td>Europe</td>\n",
       "      <td>{'lat': 40.4167754, 'lng': -3.7037902}</td>\n",
       "      <td>Central European Standard Time</td>\n",
       "      <td>3600</td>\n",
       "    </tr>\n",
       "  </tbody>\n",
       "</table>\n",
       "</div>"
      ],
      "text/plain": [
       "      Pais  Ciudad Continente                            localizacion  \\\n",
       "164  Spain  Madrid     Europe  {'lat': 40.4167754, 'lng': -3.7037902}   \n",
       "\n",
       "                          Time_Zone  offset_UTC  \n",
       "164  Central European Standard Time        3600  "
      ]
     },
     "execution_count": 83,
     "metadata": {},
     "output_type": "execute_result"
    }
   ],
   "source": [
    "cities[cities['Ciudad']=='Madrid']"
   ]
  },
  {
   "cell_type": "code",
   "execution_count": 77,
   "metadata": {},
   "outputs": [
    {
     "data": {
      "text/plain": [
       "datetime.datetime(2020, 2, 15, 20, 15, 39, 145076)"
      ]
     },
     "execution_count": 77,
     "metadata": {},
     "output_type": "execute_result"
    }
   ],
   "source": [
    "ahora=datetime.datetime.utcnow()\n",
    "ahora"
   ]
  },
  {
   "cell_type": "code",
   "execution_count": 89,
   "metadata": {},
   "outputs": [
    {
     "data": {
      "text/plain": [
       "datetime.datetime(2020, 2, 15, 7, 10, 59, 473483, tzinfo=<UTC>)"
      ]
     },
     "execution_count": 89,
     "metadata": {},
     "output_type": "execute_result"
    }
   ],
   "source": [
    "amanece_dia(cities.loc[164]['localizacion']['lat'],cities.loc[164]['localizacion']['lng'],ahora)\n",
    "\t"
   ]
  },
  {
   "cell_type": "code",
   "execution_count": 87,
   "metadata": {},
   "outputs": [
    {
     "data": {
      "text/plain": [
       "datetime.datetime(2020, 2, 15, 17, 46, 43, 437339, tzinfo=<UTC>)"
      ]
     },
     "execution_count": 87,
     "metadata": {},
     "output_type": "execute_result"
    }
   ],
   "source": [
    "anochece_dia(cities.loc[164]['localizacion']['lat'],cities.loc[164]['localizacion']['lng'],ahora)"
   ]
  },
  {
   "cell_type": "code",
   "execution_count": 98,
   "metadata": {},
   "outputs": [
    {
     "data": {
      "text/plain": [
       "datetime.datetime(2020, 2, 15, 7, 10, 59, 473483, tzinfo=<UTC>)"
      ]
     },
     "execution_count": 98,
     "metadata": {},
     "output_type": "execute_result"
    }
   ],
   "source": [
    "gallo.amanece_dia(cities.loc[164]['localizacion']['lat'],cities.loc[164]['localizacion']['lng'],ahora)"
   ]
  },
  {
   "cell_type": "code",
   "execution_count": 188,
   "metadata": {},
   "outputs": [],
   "source": [
    "cities['amanece']=cities.apply(lambda x:amanece_dia(x['localizacion']['lat'],x['localizacion']['lng'],ahora)\n",
    "                               .strftime(hora_comparativa),axis=1)"
   ]
  },
  {
   "cell_type": "code",
   "execution_count": 207,
   "metadata": {},
   "outputs": [
    {
     "data": {
      "text/plain": [
       "'Kabul'"
      ]
     },
     "execution_count": 207,
     "metadata": {},
     "output_type": "execute_result"
    }
   ],
   "source": [
    "cities[cities['amanece']=='02:10:41 02 15'].loc[0].Ciudad"
   ]
  },
  {
   "cell_type": "code",
   "execution_count": 202,
   "metadata": {},
   "outputs": [
    {
     "data": {
      "text/plain": [
       "array(['00:02:07 02 15', '00:05:40 02 15', '00:32:42 02 15',\n",
       "       '00:40:01 02 15', '00:57:29 02 15', '00:57:33 02 15',\n",
       "       '01:20:32 02 15', '01:31:04 02 15', '01:54:09 02 15',\n",
       "       '02:00:20 02 15', '02:01:59 02 15', '02:10:41 02 15',\n",
       "       '02:18:08 02 15', '02:20:38 02 15', '02:31:09 02 15',\n",
       "       '02:40:35 02 15', '02:41:43 02 15', '02:57:34 02 15',\n",
       "       '02:59:04 02 15', '03:09:54 02 15', '03:11:17 02 15',\n",
       "       '03:14:44 02 15', '03:23:32 02 15', '03:28:40 02 15',\n",
       "       '03:28:42 02 15', '03:28:55 02 15', '03:31:35 02 15',\n",
       "       '03:33:18 02 15', '03:36:41 02 15', '03:38:38 02 15',\n",
       "       '03:41:42 02 15', '03:41:51 02 15', '03:42:05 02 15',\n",
       "       '03:44:09 02 15', '03:48:23 02 15', '03:48:45 02 15',\n",
       "       '03:49:26 02 15', '03:49:43 02 15', '03:50:57 02 15',\n",
       "       '03:57:44 02 15', '03:58:59 02 15', '04:00:37 02 15',\n",
       "       '04:01:31 02 15', '04:02:11 02 15', '04:08:31 02 15',\n",
       "       '04:08:57 02 15', '04:09:58 02 15', '04:15:21 02 15',\n",
       "       '04:20:25 02 15', '04:21:00 02 15', '04:22:58 02 15',\n",
       "       '04:22:58 02 15', '04:24:37 02 15', '04:25:07 02 15',\n",
       "       '04:34:51 02 15', '04:36:43 02 15', '04:39:22 02 15',\n",
       "       '04:43:58 02 15', '04:58:52 02 15', '05:00:33 02 15',\n",
       "       '05:05:18 02 15', '05:05:34 02 15', '05:09:12 02 15',\n",
       "       '05:12:30 02 15', '05:13:16 02 15', '05:17:30 02 15',\n",
       "       '05:18:36 02 15', '05:22:01 02 15', '05:26:40 02 15',\n",
       "       '05:28:15 02 15', '05:33:01 02 15', '05:33:08 02 15',\n",
       "       '05:33:47 02 15', '05:35:14 02 15', '05:38:22 02 15',\n",
       "       '05:39:03 02 15', '05:41:53 02 15', '05:42:27 02 15',\n",
       "       '05:43:59 02 15', '05:45:05 02 15', '05:48:20 02 15',\n",
       "       '05:49:41 02 15', '05:51:19 02 15', '05:52:31 02 15',\n",
       "       '05:52:47 02 15', '05:55:36 02 15', '05:56:37 02 15',\n",
       "       '06:01:41 02 15', '06:01:51 02 15', '06:02:40 02 15',\n",
       "       '06:04:44 02 15', '06:04:55 02 15', '06:06:17 02 15',\n",
       "       '06:08:03 02 15', '06:08:47 02 15', '06:09:57 02 15',\n",
       "       '06:11:32 02 15', '06:12:18 02 15', '06:15:06 02 15',\n",
       "       '06:16:41 02 15', '06:16:45 02 15', '06:26:46 02 15',\n",
       "       '06:28:34 02 15', '06:29:00 02 15', '06:30:08 02 15',\n",
       "       '06:32:04 02 15', '06:38:02 02 15', '06:38:16 02 15',\n",
       "       '06:38:22 02 15', '06:38:49 02 15', '06:44:14 02 15',\n",
       "       '06:49:03 02 15', '06:49:24 02 15', '06:52:58 02 15',\n",
       "       '06:53:32 02 15', '06:54:45 02 15', '06:58:53 02 15',\n",
       "       '07:00:17 02 15', '07:00:25 02 15', '07:00:29 02 15',\n",
       "       '07:02:23 02 15', '07:10:39 02 15', '07:10:59 02 15',\n",
       "       '07:11:18 02 15', '07:11:26 02 15', '07:11:36 02 15',\n",
       "       '07:11:48 02 15', '07:12:40 02 15', '07:14:07 02 15',\n",
       "       '07:14:08 02 15', '07:14:25 02 15', '07:15:28 02 15',\n",
       "       '07:18:23 02 15', '07:19:06 02 15', '07:20:55 02 15',\n",
       "       '07:24:19 02 15', '07:29:52 02 15', '07:30:05 02 15',\n",
       "       '07:32:03 02 15', '07:34:04 02 15', '07:34:41 02 15',\n",
       "       '07:34:45 02 15', '07:47:35 02 15', '07:59:05 02 15',\n",
       "       '08:22:35 02 15', '09:06:42 02 15', '09:16:16 02 15',\n",
       "       '09:25:35 02 15', '09:30:24 02 15', '09:34:45 02 15',\n",
       "       '09:56:59 02 15', '10:16:25 02 15', '10:21:39 02 15',\n",
       "       '10:26:51 02 15', '10:28:03 02 15', '10:28:09 02 15',\n",
       "       '10:38:18 02 15', '10:48:15 02 15', '11:07:04 02 15',\n",
       "       '11:08:22 02 15', '11:11:23 02 15', '11:17:59 02 15',\n",
       "       '11:24:19 02 15', '11:43:00 02 15', '11:45:09 02 15',\n",
       "       '11:54:38 02 15', '12:01:57 02 15', '12:02:06 02 15',\n",
       "       '12:03:03 02 15', '12:07:10 02 15', '12:07:39 02 15',\n",
       "       '12:12:51 02 15', '12:20:40 02 15', '12:22:25 02 15',\n",
       "       '12:24:26 02 15', '12:26:45 02 15', '13:06:10 02 15',\n",
       "       '13:08:09 02 15', '13:12:16 02 15', '13:13:26 02 15',\n",
       "       '13:14:31 02 15', '13:34:49 02 15', '14:21:07 02 15',\n",
       "       '14:38:58 02 15', '14:59:00 02 15', '17:24:04 02 15',\n",
       "       '17:30:04 02 15', '17:42:04 02 15', '17:49:35 02 15',\n",
       "       '17:58:46 02 15', '18:05:37 02 15', '18:39:41 02 15',\n",
       "       '18:40:06 02 15', '18:51:52 02 15', '19:02:24 02 15',\n",
       "       '19:21:36 02 15', '19:34:31 02 15', '19:44:33 02 15',\n",
       "       '20:12:46 02 15', '21:19:23 02 15', '21:30:00 02 15',\n",
       "       '21:40:08 02 15', '22:20:45 02 15', '22:23:53 02 15',\n",
       "       '22:29:28 02 15', '22:30:57 02 15', '22:35:31 02 15',\n",
       "       '22:57:17 02 15', '23:09:43 02 15', '23:16:37 02 15',\n",
       "       '23:21:58 02 15', '23:26:51 02 15', '23:27:59 02 15',\n",
       "       '23:37:35 02 15', '23:41:51 02 15'], dtype=object)"
      ]
     },
     "execution_count": 202,
     "metadata": {},
     "output_type": "execute_result"
    }
   ],
   "source": [
    "cities.sort_values(['amanece'])['amanece'].values"
   ]
  },
  {
   "cell_type": "code",
   "execution_count": 197,
   "metadata": {},
   "outputs": [
    {
     "data": {
      "text/plain": [
       "array(['02:10:41 02 15', '05:38:22 02 15', '06:38:22 02 15',\n",
       "       '06:53:32 02 15', '05:09:12 02 15', '13:14:31 02 15',\n",
       "       '09:25:35 02 15', '03:57:44 02 15', '19:34:31 02 15',\n",
       "       '06:04:55 02 15', '03:36:41 02 15', '11:45:09 02 15',\n",
       "       '03:14:44 02 15', '00:32:42 02 15', '10:21:39 02 15',\n",
       "       '05:33:47 02 15', '06:58:53 02 15', '12:22:25 02 15',\n",
       "       '06:06:17 02 15', '00:40:01 02 15', '13:12:16 02 15',\n",
       "       '05:48:20 02 15', '04:01:31 02 15', '09:06:42 02 15',\n",
       "       '22:35:31 02 15', '05:26:40 02 15', '06:28:34 02 15',\n",
       "       '04:09:58 02 15', '23:21:58 02 15', '05:28:15 02 15',\n",
       "       '12:07:39 02 15', '07:59:05 02 15', '05:00:33 02 15',\n",
       "       '05:22:01 02 15', '10:16:25 02 15', '23:09:43 02 15',\n",
       "       '11:11:23 02 15', '14:21:07 02 15', '14:59:00 02 15',\n",
       "       '06:01:41 02 15', '12:03:03 02 15', '04:34:51 02 15',\n",
       "       '06:16:45 02 15', '05:05:18 02 15', '06:38:49 02 15',\n",
       "       '03:31:35 02 15', '13:34:49 02 15', '11:08:22 02 15',\n",
       "       '21:40:08 02 15', '11:24:19 02 15', '04:36:43 02 15',\n",
       "       '12:20:40 02 15', '05:39:03 02 15', '03:49:43 02 15',\n",
       "       '06:02:40 02 15', '03:44:09 02 15', '17:58:46 02 15',\n",
       "       '06:04:44 02 15', '07:02:23 02 15', '05:33:08 02 15',\n",
       "       '07:29:52 02 15', '03:58:59 02 15', '06:26:46 02 15',\n",
       "       '06:16:41 02 15', '05:17:30 02 15', '11:43:00 02 15',\n",
       "       '12:26:45 02 15', '07:14:08 02 15', '07:24:19 02 15',\n",
       "       '12:02:06 02 15', '11:17:59 02 15', '12:12:51 02 15',\n",
       "       '05:52:47 02 15', '09:30:24 02 15', '01:31:04 02 15',\n",
       "       '22:57:17 02 15', '03:23:32 02 15', '03:48:23 02 15',\n",
       "       '07:47:35 02 15', '04:22:58 02 15', '13:13:26 02 15',\n",
       "       '06:38:16 02 15', '11:54:38 02 15', '21:30:00 02 15',\n",
       "       '04:20:25 02 15', '02:31:09 02 15', '03:42:05 02 15',\n",
       "       '18:40:06 02 15', '22:30:57 02 15', '22:23:53 02 15',\n",
       "       '05:35:14 02 15', '03:28:55 02 15', '02:01:59 02 15',\n",
       "       '23:37:35 02 15', '05:56:37 02 15', '04:24:37 02 15',\n",
       "       '03:49:26 02 15', '14:38:58 02 15', '05:52:31 02 15',\n",
       "       '06:30:08 02 15', '05:45:05 02 15', '06:49:24 02 15',\n",
       "       '05:33:01 02 15', '02:41:43 02 15', '03:41:51 02 15',\n",
       "       '23:26:51 02 15', '01:20:32 02 15', '06:54:45 02 15',\n",
       "       '05:51:19 02 15', '18:51:52 02 15', '07:32:03 02 15',\n",
       "       '02:00:20 02 15', '13:06:10 02 15', '19:44:33 02 15',\n",
       "       '05:12:30 02 15', '06:32:04 02 15', '00:02:07 02 15',\n",
       "       '05:42:27 02 15', '07:14:07 02 15', '03:33:18 02 15',\n",
       "       '00:05:40 02 15', '04:39:22 02 15', '19:02:24 02 15',\n",
       "       '00:57:33 02 15', '07:00:25 02 15', '17:42:04 02 15',\n",
       "       '12:07:10 02 15', '06:15:06 02 15', '05:49:41 02 15',\n",
       "       '07:00:29 02 15', '02:40:35 02 15', '01:54:09 02 15',\n",
       "       '21:19:23 02 15', '04:22:58 02 15', '12:24:26 02 15',\n",
       "       '20:12:46 02 15', '09:34:45 02 15', '11:07:04 02 15',\n",
       "       '22:20:45 02 15', '05:55:36 02 15', '07:30:05 02 15',\n",
       "       '03:09:54 02 15', '05:05:34 02 15', '05:18:36 02 15',\n",
       "       '04:58:52 02 15', '04:08:31 02 15', '10:38:18 02 15',\n",
       "       '10:28:03 02 15', '10:28:09 02 15', '17:24:04 02 15',\n",
       "       '06:12:18 02 15', '05:43:59 02 15', '03:28:40 02 15',\n",
       "       '07:34:41 02 15', '05:41:53 02 15', '13:08:09 02 15',\n",
       "       '07:11:36 02 15', '23:16:37 02 15', '06:01:51 02 15',\n",
       "       '06:08:03 02 15', '19:21:36 02 15', '03:11:17 02 15',\n",
       "       '03:50:57 02 15', '04:08:57 02 15', '07:10:59 02 15',\n",
       "       '00:57:29 02 15', '04:15:21 02 15', '09:56:59 02 15',\n",
       "       '03:38:38 02 15', '06:29:00 02 15', '06:38:02 02 15',\n",
       "       '04:21:00 02 15', '22:29:28 02 15', '02:18:08 02 15',\n",
       "       '03:41:42 02 15', '23:41:51 02 15', '06:11:32 02 15',\n",
       "       '17:30:04 02 15', '10:26:51 02 15', '06:09:57 02 15',\n",
       "       '04:43:58 02 15', '02:59:04 02 15', '18:05:37 02 15',\n",
       "       '04:00:37 02 15', '05:13:16 02 15', '02:57:34 02 15',\n",
       "       '07:18:23 02 15', '12:01:57 02 15', '09:16:16 02 15',\n",
       "       '02:20:38 02 15', '18:39:41 02 15', '06:08:47 02 15',\n",
       "       '10:48:15 02 15', '23:27:59 02 15', '03:28:42 02 15',\n",
       "       '04:02:11 02 15', '03:48:45 02 15', '08:22:35 02 15',\n",
       "       '17:49:35 02 15', '07:14:25 02 15', '07:20:55 02 15',\n",
       "       '07:34:45 02 15', '06:49:03 02 15', '07:10:39 02 15',\n",
       "       '07:00:17 02 15', '07:19:06 02 15', '07:11:18 02 15',\n",
       "       '06:52:58 02 15', '06:44:14 02 15', '07:12:40 02 15',\n",
       "       '07:15:28 02 15', '07:34:04 02 15', '07:11:26 02 15',\n",
       "       '07:11:48 02 15', '04:25:07 02 15'], dtype=object)"
      ]
     },
     "execution_count": 197,
     "metadata": {},
     "output_type": "execute_result"
    }
   ],
   "source": [
    "cities['amanece'].values"
   ]
  },
  {
   "cell_type": "code",
   "execution_count": 144,
   "metadata": {},
   "outputs": [],
   "source": [
    "hora_comparativa='%H:%M:%S %m %d'\n",
    "hora='%H:%M:%S%z'\n",
    "un_dia=datetime.timedelta(days=1)"
   ]
  },
  {
   "cell_type": "code",
   "execution_count": 145,
   "metadata": {},
   "outputs": [],
   "source": [
    "ahora=datetime.datetime.utcnow()\n",
    "\t\n",
    "hora_de_ahora=ahora.strftime(hora_comparativa)"
   ]
  },
  {
   "cell_type": "code",
   "execution_count": 146,
   "metadata": {},
   "outputs": [
    {
     "data": {
      "text/plain": [
       "'21:06:39 02 15'"
      ]
     },
     "execution_count": 146,
     "metadata": {},
     "output_type": "execute_result"
    }
   ],
   "source": [
    "hora_de_ahora"
   ]
  },
  {
   "cell_type": "code",
   "execution_count": 196,
   "metadata": {},
   "outputs": [
    {
     "data": {
      "text/html": [
       "<div>\n",
       "<style scoped>\n",
       "    .dataframe tbody tr th:only-of-type {\n",
       "        vertical-align: middle;\n",
       "    }\n",
       "\n",
       "    .dataframe tbody tr th {\n",
       "        vertical-align: top;\n",
       "    }\n",
       "\n",
       "    .dataframe thead th {\n",
       "        text-align: right;\n",
       "    }\n",
       "</style>\n",
       "<table border=\"1\" class=\"dataframe\">\n",
       "  <thead>\n",
       "    <tr style=\"text-align: right;\">\n",
       "      <th></th>\n",
       "      <th>Pais</th>\n",
       "      <th>Ciudad</th>\n",
       "      <th>Continente</th>\n",
       "      <th>localizacion</th>\n",
       "      <th>Time_Zone</th>\n",
       "      <th>offset_UTC</th>\n",
       "      <th>amanece</th>\n",
       "    </tr>\n",
       "  </thead>\n",
       "  <tbody>\n",
       "    <tr>\n",
       "      <td>0</td>\n",
       "      <td>Afghanistan</td>\n",
       "      <td>Kabul</td>\n",
       "      <td>Asia</td>\n",
       "      <td>{'lat': 34.5553494, 'lng': 69.207486}</td>\n",
       "      <td>Afghanistan Time</td>\n",
       "      <td>16200</td>\n",
       "      <td>02:10:41 02 15</td>\n",
       "    </tr>\n",
       "    <tr>\n",
       "      <td>1</td>\n",
       "      <td>Albania</td>\n",
       "      <td>Tirana</td>\n",
       "      <td>Europe</td>\n",
       "      <td>{'lat': 41.3275459, 'lng': 19.8186982}</td>\n",
       "      <td>Central European Standard Time</td>\n",
       "      <td>3600</td>\n",
       "      <td>05:38:22 02 15</td>\n",
       "    </tr>\n",
       "    <tr>\n",
       "      <td>2</td>\n",
       "      <td>Algeria</td>\n",
       "      <td>Algiers</td>\n",
       "      <td>Africa</td>\n",
       "      <td>{'lat': 36.753768, 'lng': 3.0587561}</td>\n",
       "      <td>Central European Standard Time</td>\n",
       "      <td>3600</td>\n",
       "      <td>06:38:22 02 15</td>\n",
       "    </tr>\n",
       "    <tr>\n",
       "      <td>3</td>\n",
       "      <td>Andorra</td>\n",
       "      <td>Andorra la Vella</td>\n",
       "      <td>Europe</td>\n",
       "      <td>{'lat': 42.50631740000001, 'lng': 1.5218355}</td>\n",
       "      <td>Central European Standard Time</td>\n",
       "      <td>3600</td>\n",
       "      <td>06:53:32 02 15</td>\n",
       "    </tr>\n",
       "    <tr>\n",
       "      <td>4</td>\n",
       "      <td>Angola</td>\n",
       "      <td>Luanda</td>\n",
       "      <td>Africa</td>\n",
       "      <td>{'lat': -8.8146556, 'lng': 13.2301756}</td>\n",
       "      <td>West Africa Standard Time</td>\n",
       "      <td>3600</td>\n",
       "      <td>05:09:12 02 15</td>\n",
       "    </tr>\n",
       "    <tr>\n",
       "      <td>...</td>\n",
       "      <td>...</td>\n",
       "      <td>...</td>\n",
       "      <td>...</td>\n",
       "      <td>...</td>\n",
       "      <td>...</td>\n",
       "      <td>...</td>\n",
       "      <td>...</td>\n",
       "    </tr>\n",
       "    <tr>\n",
       "      <td>210</td>\n",
       "      <td>Spain</td>\n",
       "      <td>Seville</td>\n",
       "      <td>Europe</td>\n",
       "      <td>{'lat': 37.3890924, 'lng': -5.9844589}</td>\n",
       "      <td>Central European Standard Time</td>\n",
       "      <td>3600</td>\n",
       "      <td>07:15:28 02 15</td>\n",
       "    </tr>\n",
       "    <tr>\n",
       "      <td>211</td>\n",
       "      <td>Spain</td>\n",
       "      <td>Pontevedra</td>\n",
       "      <td>Europe</td>\n",
       "      <td>{'lat': 42.4298846, 'lng': -8.6446202}</td>\n",
       "      <td>Central European Standard Time</td>\n",
       "      <td>3600</td>\n",
       "      <td>07:34:04 02 15</td>\n",
       "    </tr>\n",
       "    <tr>\n",
       "      <td>212</td>\n",
       "      <td>Spain</td>\n",
       "      <td>Pozuelo de Alarcon</td>\n",
       "      <td>Europe</td>\n",
       "      <td>{'lat': 40.4440627, 'lng': -3.8058517}</td>\n",
       "      <td>Central European Standard Time</td>\n",
       "      <td>3600</td>\n",
       "      <td>07:11:26 02 15</td>\n",
       "    </tr>\n",
       "    <tr>\n",
       "      <td>213</td>\n",
       "      <td>Spain</td>\n",
       "      <td>Las Rozas</td>\n",
       "      <td>Europe</td>\n",
       "      <td>{'lat': 40.4935329, 'lng': -3.8757916}</td>\n",
       "      <td>Central European Standard Time</td>\n",
       "      <td>3600</td>\n",
       "      <td>07:11:48 02 15</td>\n",
       "    </tr>\n",
       "    <tr>\n",
       "      <td>214</td>\n",
       "      <td>Israel</td>\n",
       "      <td>Tel Aviv</td>\n",
       "      <td>Asia</td>\n",
       "      <td>{'lat': 32.0852999, 'lng': 34.78176759999999}</td>\n",
       "      <td>Israel Standard Time</td>\n",
       "      <td>7200</td>\n",
       "      <td>04:25:07 02 15</td>\n",
       "    </tr>\n",
       "  </tbody>\n",
       "</table>\n",
       "<p>215 rows × 7 columns</p>\n",
       "</div>"
      ],
      "text/plain": [
       "            Pais              Ciudad Continente  \\\n",
       "0    Afghanistan               Kabul       Asia   \n",
       "1        Albania              Tirana     Europe   \n",
       "2        Algeria             Algiers     Africa   \n",
       "3        Andorra    Andorra la Vella     Europe   \n",
       "4         Angola              Luanda     Africa   \n",
       "..           ...                 ...        ...   \n",
       "210        Spain             Seville     Europe   \n",
       "211        Spain          Pontevedra     Europe   \n",
       "212        Spain  Pozuelo de Alarcon     Europe   \n",
       "213        Spain           Las Rozas     Europe   \n",
       "214       Israel            Tel Aviv       Asia   \n",
       "\n",
       "                                      localizacion  \\\n",
       "0            {'lat': 34.5553494, 'lng': 69.207486}   \n",
       "1           {'lat': 41.3275459, 'lng': 19.8186982}   \n",
       "2             {'lat': 36.753768, 'lng': 3.0587561}   \n",
       "3     {'lat': 42.50631740000001, 'lng': 1.5218355}   \n",
       "4           {'lat': -8.8146556, 'lng': 13.2301756}   \n",
       "..                                             ...   \n",
       "210         {'lat': 37.3890924, 'lng': -5.9844589}   \n",
       "211         {'lat': 42.4298846, 'lng': -8.6446202}   \n",
       "212         {'lat': 40.4440627, 'lng': -3.8058517}   \n",
       "213         {'lat': 40.4935329, 'lng': -3.8757916}   \n",
       "214  {'lat': 32.0852999, 'lng': 34.78176759999999}   \n",
       "\n",
       "                          Time_Zone  offset_UTC         amanece  \n",
       "0                  Afghanistan Time       16200  02:10:41 02 15  \n",
       "1    Central European Standard Time        3600  05:38:22 02 15  \n",
       "2    Central European Standard Time        3600  06:38:22 02 15  \n",
       "3    Central European Standard Time        3600  06:53:32 02 15  \n",
       "4         West Africa Standard Time        3600  05:09:12 02 15  \n",
       "..                              ...         ...             ...  \n",
       "210  Central European Standard Time        3600  07:15:28 02 15  \n",
       "211  Central European Standard Time        3600  07:34:04 02 15  \n",
       "212  Central European Standard Time        3600  07:11:26 02 15  \n",
       "213  Central European Standard Time        3600  07:11:48 02 15  \n",
       "214            Israel Standard Time        7200  04:25:07 02 15  \n",
       "\n",
       "[215 rows x 7 columns]"
      ]
     },
     "execution_count": 196,
     "metadata": {},
     "output_type": "execute_result"
    }
   ],
   "source": [
    "cities"
   ]
  },
  {
   "cell_type": "code",
   "execution_count": null,
   "metadata": {},
   "outputs": [],
   "source": []
  }
 ],
 "metadata": {
  "kernelspec": {
   "display_name": "Python 3",
   "language": "python",
   "name": "python3"
  },
  "language_info": {
   "codemirror_mode": {
    "name": "ipython",
    "version": 3
   },
   "file_extension": ".py",
   "mimetype": "text/x-python",
   "name": "python",
   "nbconvert_exporter": "python",
   "pygments_lexer": "ipython3",
   "version": "3.6.9"
  }
 },
 "nbformat": 4,
 "nbformat_minor": 2
}
